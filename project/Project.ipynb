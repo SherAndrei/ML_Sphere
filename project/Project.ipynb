{
 "cells": [
  {
   "cell_type": "markdown",
   "id": "003945f8",
   "metadata": {},
   "source": [
    "## Проект \"Анализ веб-документов\" Техносфера Весна 2021"
   ]
  },
  {
   "cell_type": "code",
   "execution_count": 39,
   "id": "c8ad46b1",
   "metadata": {},
   "outputs": [],
   "source": [
    "import numpy as np\n",
    "import pandas as pd\n",
    "from tqdm.notebook import tqdm"
   ]
  },
  {
   "cell_type": "markdown",
   "id": "fb98a2cd",
   "metadata": {},
   "source": [
    "### Посмотрим на наши трейновые данные"
   ]
  },
  {
   "cell_type": "code",
   "execution_count": 40,
   "id": "944c8641",
   "metadata": {},
   "outputs": [
    {
     "name": "stdout",
     "output_type": "stream",
     "text": [
      "(11690, 3)\n"
     ]
    },
    {
     "data": {
      "text/html": [
       "<div>\n",
       "<style scoped>\n",
       "    .dataframe tbody tr th:only-of-type {\n",
       "        vertical-align: middle;\n",
       "    }\n",
       "\n",
       "    .dataframe tbody tr th {\n",
       "        vertical-align: top;\n",
       "    }\n",
       "\n",
       "    .dataframe thead th {\n",
       "        text-align: right;\n",
       "    }\n",
       "</style>\n",
       "<table border=\"1\" class=\"dataframe\">\n",
       "  <thead>\n",
       "    <tr style=\"text-align: right;\">\n",
       "      <th></th>\n",
       "      <th>group_id</th>\n",
       "      <th>doc_id</th>\n",
       "      <th>target</th>\n",
       "    </tr>\n",
       "    <tr>\n",
       "      <th>pair_id</th>\n",
       "      <th></th>\n",
       "      <th></th>\n",
       "      <th></th>\n",
       "    </tr>\n",
       "  </thead>\n",
       "  <tbody>\n",
       "    <tr>\n",
       "      <th>1</th>\n",
       "      <td>1</td>\n",
       "      <td>15731</td>\n",
       "      <td>0</td>\n",
       "    </tr>\n",
       "    <tr>\n",
       "      <th>2</th>\n",
       "      <td>1</td>\n",
       "      <td>14829</td>\n",
       "      <td>0</td>\n",
       "    </tr>\n",
       "    <tr>\n",
       "      <th>3</th>\n",
       "      <td>1</td>\n",
       "      <td>15764</td>\n",
       "      <td>0</td>\n",
       "    </tr>\n",
       "    <tr>\n",
       "      <th>4</th>\n",
       "      <td>1</td>\n",
       "      <td>17669</td>\n",
       "      <td>0</td>\n",
       "    </tr>\n",
       "    <tr>\n",
       "      <th>5</th>\n",
       "      <td>1</td>\n",
       "      <td>14852</td>\n",
       "      <td>0</td>\n",
       "    </tr>\n",
       "  </tbody>\n",
       "</table>\n",
       "</div>"
      ],
      "text/plain": [
       "         group_id  doc_id  target\n",
       "pair_id                          \n",
       "1               1   15731       0\n",
       "2               1   14829       0\n",
       "3               1   15764       0\n",
       "4               1   17669       0\n",
       "5               1   14852       0"
      ]
     },
     "execution_count": 40,
     "metadata": {},
     "output_type": "execute_result"
    }
   ],
   "source": [
    "traindf = pd.read_csv('data/train_groups.csv', sep=',', index_col='pair_id')\n",
    "print(traindf.shape)\n",
    "traindf.head(5)"
   ]
  },
  {
   "cell_type": "code",
   "execution_count": 41,
   "id": "cd8f5e4c",
   "metadata": {},
   "outputs": [
    {
     "data": {
      "text/plain": [
       "(11690, 3)"
      ]
     },
     "execution_count": 41,
     "metadata": {},
     "output_type": "execute_result"
    }
   ],
   "source": [
    "traindf.shape"
   ]
  },
  {
   "cell_type": "markdown",
   "id": "45050500",
   "metadata": {},
   "source": [
    "# Идея 0 "
   ]
  },
  {
   "cell_type": "markdown",
   "id": "db923286",
   "metadata": {},
   "source": [
    "Посмотрим на каждые заголовки, построим множество признаков, основанных на количестве схожих слов в заголовках.\n",
    "Будем брать топ 15 в списке"
   ]
  },
  {
   "cell_type": "markdown",
   "id": "3979cffc",
   "metadata": {},
   "source": [
    "## Решение 0\n",
    "Повторим решение со второй домашней работы"
   ]
  },
  {
   "cell_type": "markdown",
   "id": "d93d572e",
   "metadata": {},
   "source": [
    "1. Прочитаем все заголовки"
   ]
  },
  {
   "cell_type": "code",
   "execution_count": 42,
   "id": "3dd890ff",
   "metadata": {},
   "outputs": [
    {
     "data": {
      "text/html": [
       "<div>\n",
       "<style scoped>\n",
       "    .dataframe tbody tr th:only-of-type {\n",
       "        vertical-align: middle;\n",
       "    }\n",
       "\n",
       "    .dataframe tbody tr th {\n",
       "        vertical-align: top;\n",
       "    }\n",
       "\n",
       "    .dataframe thead th {\n",
       "        text-align: right;\n",
       "    }\n",
       "</style>\n",
       "<table border=\"1\" class=\"dataframe\">\n",
       "  <thead>\n",
       "    <tr style=\"text-align: right;\">\n",
       "      <th></th>\n",
       "      <th>title</th>\n",
       "    </tr>\n",
       "  </thead>\n",
       "  <tbody>\n",
       "    <tr>\n",
       "      <th>15731</th>\n",
       "      <td>ВАЗ 21213 | Замена подшипников ступицы | Нива</td>\n",
       "    </tr>\n",
       "    <tr>\n",
       "      <th>14829</th>\n",
       "      <td>Ваз 2107 оптом в Сочи. Сравнить цены, купить п...</td>\n",
       "    </tr>\n",
       "    <tr>\n",
       "      <th>15764</th>\n",
       "      <td>Купить ступица Лада калина2. Трансмиссия - пер...</td>\n",
       "    </tr>\n",
       "    <tr>\n",
       "      <th>17669</th>\n",
       "      <td>Классика 21010 - 21074</td>\n",
       "    </tr>\n",
       "  </tbody>\n",
       "</table>\n",
       "</div>"
      ],
      "text/plain": [
       "                                                   title\n",
       "15731      ВАЗ 21213 | Замена подшипников ступицы | Нива\n",
       "14829  Ваз 2107 оптом в Сочи. Сравнить цены, купить п...\n",
       "15764  Купить ступица Лада калина2. Трансмиссия - пер...\n",
       "17669                             Классика 21010 - 21074"
      ]
     },
     "execution_count": 42,
     "metadata": {},
     "output_type": "execute_result"
    }
   ],
   "source": [
    "doc_to_title = {}\n",
    "\n",
    "with open('data/docs_titles.tsv') as f:\n",
    "    for num_line, line in enumerate(f):\n",
    "        if num_line == 0:\n",
    "            continue\n",
    "        data = line.strip().split('\\t', 1)\n",
    "        doc_to_title[int(data[0])] = '' if len(data) == 1 else data[1]\n",
    "\n",
    "titlesdf = pd.DataFrame.from_dict(doc_to_title, orient='index', columns=['title'])\n",
    "titlesdf.head(4)"
   ]
  },
  {
   "cell_type": "markdown",
   "id": "0fbe1822",
   "metadata": {},
   "source": [
    "2. Прочитаем трейн и добавим заголовки к нему"
   ]
  },
  {
   "cell_type": "code",
   "execution_count": 43,
   "id": "26ac1895",
   "metadata": {},
   "outputs": [
    {
     "data": {
      "text/html": [
       "<div>\n",
       "<style scoped>\n",
       "    .dataframe tbody tr th:only-of-type {\n",
       "        vertical-align: middle;\n",
       "    }\n",
       "\n",
       "    .dataframe tbody tr th {\n",
       "        vertical-align: top;\n",
       "    }\n",
       "\n",
       "    .dataframe thead th {\n",
       "        text-align: right;\n",
       "    }\n",
       "</style>\n",
       "<table border=\"1\" class=\"dataframe\">\n",
       "  <thead>\n",
       "    <tr style=\"text-align: right;\">\n",
       "      <th></th>\n",
       "      <th>group_id</th>\n",
       "      <th>doc_id</th>\n",
       "      <th>target</th>\n",
       "      <th>title</th>\n",
       "    </tr>\n",
       "    <tr>\n",
       "      <th>pair_id</th>\n",
       "      <th></th>\n",
       "      <th></th>\n",
       "      <th></th>\n",
       "      <th></th>\n",
       "    </tr>\n",
       "  </thead>\n",
       "  <tbody>\n",
       "    <tr>\n",
       "      <th>1</th>\n",
       "      <td>1</td>\n",
       "      <td>15731</td>\n",
       "      <td>0</td>\n",
       "      <td>ВАЗ 21213 | Замена подшипников ступицы | Нива</td>\n",
       "    </tr>\n",
       "    <tr>\n",
       "      <th>2</th>\n",
       "      <td>1</td>\n",
       "      <td>14829</td>\n",
       "      <td>0</td>\n",
       "      <td>Ваз 2107 оптом в Сочи. Сравнить цены, купить п...</td>\n",
       "    </tr>\n",
       "    <tr>\n",
       "      <th>3</th>\n",
       "      <td>1</td>\n",
       "      <td>15764</td>\n",
       "      <td>0</td>\n",
       "      <td>Купить ступица Лада калина2. Трансмиссия - пер...</td>\n",
       "    </tr>\n",
       "    <tr>\n",
       "      <th>4</th>\n",
       "      <td>1</td>\n",
       "      <td>17669</td>\n",
       "      <td>0</td>\n",
       "      <td>Классика 21010 - 21074</td>\n",
       "    </tr>\n",
       "  </tbody>\n",
       "</table>\n",
       "</div>"
      ],
      "text/plain": [
       "         group_id  doc_id  target  \\\n",
       "pair_id                             \n",
       "1               1   15731       0   \n",
       "2               1   14829       0   \n",
       "3               1   15764       0   \n",
       "4               1   17669       0   \n",
       "\n",
       "                                                     title  \n",
       "pair_id                                                     \n",
       "1            ВАЗ 21213 | Замена подшипников ступицы | Нива  \n",
       "2        Ваз 2107 оптом в Сочи. Сравнить цены, купить п...  \n",
       "3        Купить ступица Лада калина2. Трансмиссия - пер...  \n",
       "4                                   Классика 21010 - 21074  "
      ]
     },
     "execution_count": 43,
     "metadata": {},
     "output_type": "execute_result"
    }
   ],
   "source": [
    "def add_titles(df):\n",
    "    df['title'] = titlesdf.loc[df['doc_id'].values].values\n",
    "\n",
    "traindf = pd.read_csv('data/train_groups.csv', index_col='pair_id')\n",
    "add_titles(traindf)\n",
    "traindf.head(4)"
   ]
  },
  {
   "cell_type": "markdown",
   "id": "252de18e",
   "metadata": {},
   "source": [
    "3. Найдем признаки. Посчитаем общие слова для всех групп и всех веб-страниц в заголовке. Как признаки для веб-страницы, возьмем значения топ-15  пересечений с другими страницами из группы. "
   ]
  },
  {
   "cell_type": "code",
   "execution_count": 44,
   "id": "b2e90886",
   "metadata": {},
   "outputs": [],
   "source": [
    "X_train, y_train, groups = [], [], []"
   ]
  },
  {
   "cell_type": "code",
   "execution_count": 45,
   "id": "5ed8f5ce",
   "metadata": {},
   "outputs": [],
   "source": [
    "def collect_titles_for_train(docs):\n",
    "    titles = docs.title\n",
    "    y_train.extend(docs.target.to_list())\n",
    "    groups.extend(docs.group_id.to_list())\n",
    "    for i, title in enumerate(titles):\n",
    "        words = set(title.strip().split())\n",
    "        distances = []\n",
    "        for j, another_title in enumerate(titles):\n",
    "            if i == j:\n",
    "                continue\n",
    "            another_words = set(another_title.strip().split())\n",
    "            distances.append(len(words.intersection(another_words)))\n",
    "        X_train.append(-np.partition(-np.asarray(distances, dtype='int'), 15)[:15])"
   ]
  },
  {
   "cell_type": "code",
   "execution_count": 46,
   "id": "6a181508",
   "metadata": {},
   "outputs": [],
   "source": [
    "traindf.groupby('group_id').apply(collect_titles_for_train);\n",
    "X, y, groups = np.asarray(X_train), np.asarray(y_train), np.asarray(groups)"
   ]
  },
  {
   "cell_type": "code",
   "execution_count": 47,
   "id": "314ff332",
   "metadata": {},
   "outputs": [],
   "source": [
    "from sklearn.preprocessing import StandardScaler"
   ]
  },
  {
   "cell_type": "code",
   "execution_count": 48,
   "id": "9e6c773e",
   "metadata": {},
   "outputs": [],
   "source": [
    "scaler = StandardScaler().fit(X, y)\n",
    "X = scaler.transform(X);"
   ]
  },
  {
   "cell_type": "code",
   "execution_count": 49,
   "id": "7d6d8f76",
   "metadata": {},
   "outputs": [],
   "source": [
    "from sklearn.linear_model import SGDClassifier\n",
    "from sklearn.metrics import f1_score\n",
    "from sklearn.model_selection import GroupKFold"
   ]
  },
  {
   "cell_type": "code",
   "execution_count": 50,
   "id": "4e781774",
   "metadata": {},
   "outputs": [],
   "source": [
    "opt_params = {\n",
    "    'n_jobs': -1\n",
    "}"
   ]
  },
  {
   "cell_type": "code",
   "execution_count": 51,
   "id": "182f34fe",
   "metadata": {},
   "outputs": [],
   "source": [
    "def ValScore(n_splits=5, groups=groups, *args, **kwargs):\n",
    "    clf = SGDClassifier(*args, **kwargs)\n",
    "    kf = GroupKFold(n_splits=n_splits)\n",
    "\n",
    "    scores = []\n",
    "    for train, test in kf.split(X, y, groups=groups):\n",
    "        clf.fit(X[train], y[train])\n",
    "        scores.append(f1_score(y_pred=clf.predict(X[test]),\n",
    "                               y_true=y[test]))\n",
    "    return np.asarray(scores)"
   ]
  },
  {
   "cell_type": "code",
   "execution_count": 52,
   "id": "fb0a4007",
   "metadata": {},
   "outputs": [],
   "source": [
    "def FindParams(param_name, param_range, known_params=opt_params):\n",
    "    mean_scores = []\n",
    "\n",
    "    for param in param_range:\n",
    "        kwargs = known_params\n",
    "        kwargs.update({param_name: param})\n",
    "        scores = ValScore(**kwargs)\n",
    "        mean_scores.append(scores.mean())\n",
    "\n",
    "    opt_param = param_range[np.argmax(mean_scores)]\n",
    "    return opt_param"
   ]
  },
  {
   "cell_type": "code",
   "execution_count": 53,
   "id": "b5e18bd5",
   "metadata": {},
   "outputs": [
    {
     "name": "stderr",
     "output_type": "stream",
     "text": [
      "/home/andrew/miniconda3/envs/da/lib/python3.7/site-packages/sklearn/linear_model/_stochastic_gradient.py:577: ConvergenceWarning: Maximum number of iteration reached before convergence. Consider increasing max_iter to improve the fit.\n",
      "  ConvergenceWarning)\n"
     ]
    }
   ],
   "source": [
    "grid = {\n",
    "    'max_iter': [500, 1000, 2000, 3000, 5000],\n",
    "    'loss': ['hinge', 'log', 'modified_huber', 'squared_hinge', 'perceptron'],\n",
    "    'alpha': np.logspace(4, -4, 10)\n",
    "}\n",
    "\n",
    "for param in grid:\n",
    "    param_range = grid[param]\n",
    "    opt_model_type = FindParams(param, param_range, opt_params)\n",
    "    opt_params.update({param: opt_model_type})"
   ]
  },
  {
   "cell_type": "code",
   "execution_count": 54,
   "id": "569e76e8",
   "metadata": {},
   "outputs": [
    {
     "data": {
      "text/plain": [
       "{'n_jobs': -1,\n",
       " 'max_iter': 2000,\n",
       " 'loss': 'squared_hinge',\n",
       " 'alpha': 0.0007742636826811277}"
      ]
     },
     "execution_count": 54,
     "metadata": {},
     "output_type": "execute_result"
    }
   ],
   "source": [
    "opt_params"
   ]
  },
  {
   "cell_type": "markdown",
   "id": "30a6b330",
   "metadata": {},
   "source": [
    "### Считываем test и делаем predict"
   ]
  },
  {
   "cell_type": "code",
   "execution_count": 55,
   "id": "ee3104fd",
   "metadata": {},
   "outputs": [
    {
     "data": {
      "text/html": [
       "<div>\n",
       "<style scoped>\n",
       "    .dataframe tbody tr th:only-of-type {\n",
       "        vertical-align: middle;\n",
       "    }\n",
       "\n",
       "    .dataframe tbody tr th {\n",
       "        vertical-align: top;\n",
       "    }\n",
       "\n",
       "    .dataframe thead th {\n",
       "        text-align: right;\n",
       "    }\n",
       "</style>\n",
       "<table border=\"1\" class=\"dataframe\">\n",
       "  <thead>\n",
       "    <tr style=\"text-align: right;\">\n",
       "      <th></th>\n",
       "      <th>group_id</th>\n",
       "      <th>doc_id</th>\n",
       "      <th>title</th>\n",
       "    </tr>\n",
       "    <tr>\n",
       "      <th>pair_id</th>\n",
       "      <th></th>\n",
       "      <th></th>\n",
       "      <th></th>\n",
       "    </tr>\n",
       "  </thead>\n",
       "  <tbody>\n",
       "    <tr>\n",
       "      <th>11691</th>\n",
       "      <td>130</td>\n",
       "      <td>6710</td>\n",
       "      <td>КАК ПРОПИСАТЬ АДМИНКУ В КС 1.6 СЕБЕ ИЛИ ДРУГУ ...</td>\n",
       "    </tr>\n",
       "    <tr>\n",
       "      <th>11692</th>\n",
       "      <td>130</td>\n",
       "      <td>4030</td>\n",
       "      <td>Скачать: SGL-RP доработка | Слив мода [MySQL] ...</td>\n",
       "    </tr>\n",
       "    <tr>\n",
       "      <th>11693</th>\n",
       "      <td>130</td>\n",
       "      <td>5561</td>\n",
       "      <td>Как прописать админку в кс 1.6 - Counter-Strik...</td>\n",
       "    </tr>\n",
       "    <tr>\n",
       "      <th>11694</th>\n",
       "      <td>130</td>\n",
       "      <td>4055</td>\n",
       "      <td>Как прописать простую админку в кс 1 6</td>\n",
       "    </tr>\n",
       "  </tbody>\n",
       "</table>\n",
       "</div>"
      ],
      "text/plain": [
       "         group_id  doc_id                                              title\n",
       "pair_id                                                                     \n",
       "11691         130    6710  КАК ПРОПИСАТЬ АДМИНКУ В КС 1.6 СЕБЕ ИЛИ ДРУГУ ...\n",
       "11692         130    4030  Скачать: SGL-RP доработка | Слив мода [MySQL] ...\n",
       "11693         130    5561  Как прописать админку в кс 1.6 - Counter-Strik...\n",
       "11694         130    4055             Как прописать простую админку в кс 1 6"
      ]
     },
     "execution_count": 55,
     "metadata": {},
     "output_type": "execute_result"
    }
   ],
   "source": [
    "testdf = pd.read_csv('data/test_groups.csv', index_col='pair_id')\n",
    "add_titles(testdf)\n",
    "testdf.head(4)"
   ]
  },
  {
   "cell_type": "code",
   "execution_count": 56,
   "id": "544dba0c",
   "metadata": {},
   "outputs": [],
   "source": [
    "X_test, pairs_id = [], []"
   ]
  },
  {
   "cell_type": "code",
   "execution_count": 57,
   "id": "ef330231",
   "metadata": {},
   "outputs": [],
   "source": [
    "def collect_titles_for_test(docs):\n",
    "    titles = docs.title\n",
    "    pairs_id.extend(docs.index.to_list())\n",
    "    for i, title in enumerate(titles):\n",
    "        words = set(title.strip().split())\n",
    "        distances = []\n",
    "        for j, another_title in enumerate(titles):\n",
    "            if i == j:\n",
    "                continue\n",
    "            another_words = set(another_title.strip().split())\n",
    "            distances.append(len(words.intersection(another_words)))\n",
    "        X_test.append(-np.partition(-np.asarray(distances, dtype='int'), 15)[:15])"
   ]
  },
  {
   "cell_type": "code",
   "execution_count": 58,
   "id": "9653c5cf",
   "metadata": {},
   "outputs": [],
   "source": [
    "testdf.groupby('group_id').apply(collect_titles_for_test);\n",
    "X_test = np.asarray(X_test)"
   ]
  },
  {
   "cell_type": "code",
   "execution_count": 59,
   "id": "8fd63870",
   "metadata": {},
   "outputs": [],
   "source": [
    "X_test = scaler.transform(X_test)"
   ]
  },
  {
   "cell_type": "code",
   "execution_count": 60,
   "id": "770aa6a0",
   "metadata": {},
   "outputs": [],
   "source": [
    "clf = SGDClassifier(**opt_params).fit(X, y)\n",
    "testdf['target'] = clf.predict(X_test)"
   ]
  },
  {
   "cell_type": "code",
   "execution_count": 61,
   "id": "2d80591b",
   "metadata": {},
   "outputs": [],
   "source": [
    "testdf.drop(columns=['group_id', 'doc_id', 'title']).to_csv('solution0.csv')"
   ]
  },
  {
   "cell_type": "markdown",
   "id": "f2976ced",
   "metadata": {},
   "source": [
    "### Итоговый скор 0.49019\n",
    "Надо что-то получше"
   ]
  },
  {
   "cell_type": "markdown",
   "id": "97e841b4",
   "metadata": {},
   "source": [
    "# Идея 1"
   ]
  },
  {
   "cell_type": "markdown",
   "id": "925d9d9a",
   "metadata": {},
   "source": [
    "Посмотрим на слова в получившихся данных."
   ]
  },
  {
   "cell_type": "code",
   "execution_count": 62,
   "id": "375e0e4d",
   "metadata": {},
   "outputs": [],
   "source": [
    "from collections import Counter"
   ]
  },
  {
   "cell_type": "code",
   "execution_count": 63,
   "id": "b7cce149",
   "metadata": {},
   "outputs": [
    {
     "data": {
      "text/plain": [
       "[('-', 11915), ('в', 6517), ('и', 5654), ('|', 4754), ('на', 4269)]"
      ]
     },
     "execution_count": 63,
     "metadata": {},
     "output_type": "execute_result"
    }
   ],
   "source": [
    "wordCounter = Counter()\n",
    "for title in titlesdf['title'].values:\n",
    "    wordCounter.update(title.strip().split())\n",
    "wordCounter.most_common(5)"
   ]
  },
  {
   "cell_type": "markdown",
   "id": "7384028c",
   "metadata": {},
   "source": [
    "Явно среди заголовков оказалось куча мусора и бесполезной информации.\n",
    "Давайте предобработаем заголовки.\n",
    "\n",
    "Из библиотеки nltk будем использовать токенайзер и стопслова. Из pymorphy2 возьмем морфемный анализ, а с помощью re избавимся от знаков препинания и тому подобного. С помощью string уберем пунктуацию"
   ]
  },
  {
   "cell_type": "code",
   "execution_count": 64,
   "id": "5c8061c2",
   "metadata": {},
   "outputs": [],
   "source": [
    "from nltk import corpus, word_tokenize\n",
    "from string import digits, punctuation\n",
    "from pymorphy2 import MorphAnalyzer"
   ]
  },
  {
   "cell_type": "code",
   "execution_count": 65,
   "id": "ee4ddaf6",
   "metadata": {},
   "outputs": [],
   "source": [
    "chars_to_remove = digits + punctuation + \"–—«»\"\n",
    "morph = MorphAnalyzer()\n",
    "RU_stopwords = set(corpus.stopwords.words('russian'))\n",
    "EN_stopwords = set(corpus.stopwords.words('english'))\n",
    "stopwords = RU_stopwords.union(EN_stopwords)"
   ]
  },
  {
   "cell_type": "code",
   "execution_count": 66,
   "id": "7080852a",
   "metadata": {},
   "outputs": [],
   "source": [
    "def process_title(title):\n",
    "    title = bytes(title, 'utf-8').decode('utf-8', 'ignore')\n",
    "    title = title.translate(str.maketrans('', '', chars_to_remove))\n",
    "    words = word_tokenize(title)\n",
    "    words = {word for word in words if word not in stopwords}\n",
    "    words = {morph.parse(word)[0].normal_form for word in words}\n",
    "    return words"
   ]
  },
  {
   "cell_type": "code",
   "execution_count": 67,
   "id": "ab21c2f2",
   "metadata": {},
   "outputs": [],
   "source": [
    "titlesdf['title_words'] = [process_title(title) for title in titlesdf['title']]"
   ]
  },
  {
   "cell_type": "markdown",
   "id": "c9bb5e3c",
   "metadata": {},
   "source": [
    "Проверим как изменились наши заголовки"
   ]
  },
  {
   "cell_type": "code",
   "execution_count": 68,
   "id": "c0188f9c",
   "metadata": {},
   "outputs": [
    {
     "data": {
      "text/plain": [
       "[('как', 3914),\n",
       " ('форум', 1654),\n",
       " ('скачать', 1020),\n",
       " ('страница', 1019),\n",
       " ('онлайн', 848)]"
      ]
     },
     "execution_count": 68,
     "metadata": {},
     "output_type": "execute_result"
    }
   ],
   "source": [
    "new_wordCounter = Counter()\n",
    "for words in titlesdf['title_words'].values:\n",
    "    new_wordCounter.update(words)\n",
    "new_wordCounter.most_common(5)"
   ]
  },
  {
   "cell_type": "markdown",
   "id": "02fc1046",
   "metadata": {},
   "source": [
    "Уже лучше, попробуем запустить решение 0 на этих данных"
   ]
  },
  {
   "cell_type": "markdown",
   "id": "b58de8cf",
   "metadata": {},
   "source": [
    "## Решение 1"
   ]
  },
  {
   "cell_type": "code",
   "execution_count": 69,
   "id": "0ae49799",
   "metadata": {},
   "outputs": [],
   "source": [
    "def add_title_words(df):\n",
    "    df['title_words'] = [words for words in titlesdf.loc[df['doc_id'].values]['title_words']]"
   ]
  },
  {
   "cell_type": "code",
   "execution_count": 70,
   "id": "f0160ce7",
   "metadata": {},
   "outputs": [
    {
     "data": {
      "text/html": [
       "<div>\n",
       "<style scoped>\n",
       "    .dataframe tbody tr th:only-of-type {\n",
       "        vertical-align: middle;\n",
       "    }\n",
       "\n",
       "    .dataframe tbody tr th {\n",
       "        vertical-align: top;\n",
       "    }\n",
       "\n",
       "    .dataframe thead th {\n",
       "        text-align: right;\n",
       "    }\n",
       "</style>\n",
       "<table border=\"1\" class=\"dataframe\">\n",
       "  <thead>\n",
       "    <tr style=\"text-align: right;\">\n",
       "      <th></th>\n",
       "      <th>group_id</th>\n",
       "      <th>doc_id</th>\n",
       "      <th>target</th>\n",
       "      <th>title</th>\n",
       "      <th>title_words</th>\n",
       "    </tr>\n",
       "    <tr>\n",
       "      <th>pair_id</th>\n",
       "      <th></th>\n",
       "      <th></th>\n",
       "      <th></th>\n",
       "      <th></th>\n",
       "      <th></th>\n",
       "    </tr>\n",
       "  </thead>\n",
       "  <tbody>\n",
       "    <tr>\n",
       "      <th>1</th>\n",
       "      <td>1</td>\n",
       "      <td>15731</td>\n",
       "      <td>0</td>\n",
       "      <td>ВАЗ 21213 | Замена подшипников ступицы | Нива</td>\n",
       "      <td>{ступица, ваз, замена, подшипник, нива}</td>\n",
       "    </tr>\n",
       "    <tr>\n",
       "      <th>2</th>\n",
       "      <td>1</td>\n",
       "      <td>14829</td>\n",
       "      <td>0</td>\n",
       "      <td>Ваз 2107 оптом в Сочи. Сравнить цены, купить п...</td>\n",
       "      <td>{товар, оптом, сравнить, сочи, ваз, tiuru, цен...</td>\n",
       "    </tr>\n",
       "    <tr>\n",
       "      <th>3</th>\n",
       "      <td>1</td>\n",
       "      <td>15764</td>\n",
       "      <td>0</td>\n",
       "      <td>Купить ступица Лада калина2. Трансмиссия - пер...</td>\n",
       "      <td>{ступица, калин, лада, трансмиссия, замена, пе...</td>\n",
       "    </tr>\n",
       "    <tr>\n",
       "      <th>4</th>\n",
       "      <td>1</td>\n",
       "      <td>17669</td>\n",
       "      <td>0</td>\n",
       "      <td>Классика 21010 - 21074</td>\n",
       "      <td>{классика}</td>\n",
       "    </tr>\n",
       "    <tr>\n",
       "      <th>5</th>\n",
       "      <td>1</td>\n",
       "      <td>14852</td>\n",
       "      <td>0</td>\n",
       "      <td>Ступица Нива — замена подшипника своими руками</td>\n",
       "      <td>{ступица, рука, нива, замена, подшипник, свой}</td>\n",
       "    </tr>\n",
       "    <tr>\n",
       "      <th>...</th>\n",
       "      <td>...</td>\n",
       "      <td>...</td>\n",
       "      <td>...</td>\n",
       "      <td>...</td>\n",
       "      <td>...</td>\n",
       "    </tr>\n",
       "    <tr>\n",
       "      <th>11686</th>\n",
       "      <td>129</td>\n",
       "      <td>26672</td>\n",
       "      <td>0</td>\n",
       "      <td>❤★✿★АПРЕЛЯТА 2014 -6❤★✿</td>\n",
       "      <td>{❤★✿, ❤★✿★апрелёнок}</td>\n",
       "    </tr>\n",
       "    <tr>\n",
       "      <th>11687</th>\n",
       "      <td>129</td>\n",
       "      <td>25838</td>\n",
       "      <td>0</td>\n",
       "      <td>:: Gästebuch</td>\n",
       "      <td>{gästebuch}</td>\n",
       "    </tr>\n",
       "    <tr>\n",
       "      <th>11688</th>\n",
       "      <td>129</td>\n",
       "      <td>25703</td>\n",
       "      <td>0</td>\n",
       "      <td>Jizolofej: Archive</td>\n",
       "      <td>{jizolofej, archive}</td>\n",
       "    </tr>\n",
       "    <tr>\n",
       "      <th>11689</th>\n",
       "      <td>129</td>\n",
       "      <td>27885</td>\n",
       "      <td>0</td>\n",
       "      <td>Как зовут парня дианы шурыгиной | Пусть говоря...</td>\n",
       "      <td>{парень, шурыгин, как, говорить, диана, пусть,...</td>\n",
       "    </tr>\n",
       "    <tr>\n",
       "      <th>11690</th>\n",
       "      <td>129</td>\n",
       "      <td>27987</td>\n",
       "      <td>0</td>\n",
       "      <td>Культура &amp; ШоуБиз:   Визит «Ревизорро» в Смоле...</td>\n",
       "      <td>{газ, сми, express, ревизорро, распыление, шоу...</td>\n",
       "    </tr>\n",
       "  </tbody>\n",
       "</table>\n",
       "<p>11690 rows × 5 columns</p>\n",
       "</div>"
      ],
      "text/plain": [
       "         group_id  doc_id  target  \\\n",
       "pair_id                             \n",
       "1               1   15731       0   \n",
       "2               1   14829       0   \n",
       "3               1   15764       0   \n",
       "4               1   17669       0   \n",
       "5               1   14852       0   \n",
       "...           ...     ...     ...   \n",
       "11686         129   26672       0   \n",
       "11687         129   25838       0   \n",
       "11688         129   25703       0   \n",
       "11689         129   27885       0   \n",
       "11690         129   27987       0   \n",
       "\n",
       "                                                     title  \\\n",
       "pair_id                                                      \n",
       "1            ВАЗ 21213 | Замена подшипников ступицы | Нива   \n",
       "2        Ваз 2107 оптом в Сочи. Сравнить цены, купить п...   \n",
       "3        Купить ступица Лада калина2. Трансмиссия - пер...   \n",
       "4                                   Классика 21010 - 21074   \n",
       "5           Ступица Нива — замена подшипника своими руками   \n",
       "...                                                    ...   \n",
       "11686                              ❤★✿★АПРЕЛЯТА 2014 -6❤★✿   \n",
       "11687                                         :: Gästebuch   \n",
       "11688                                   Jizolofej: Archive   \n",
       "11689    Как зовут парня дианы шурыгиной | Пусть говоря...   \n",
       "11690    Культура & ШоуБиз:   Визит «Ревизорро» в Смоле...   \n",
       "\n",
       "                                               title_words  \n",
       "pair_id                                                     \n",
       "1                  {ступица, ваз, замена, подшипник, нива}  \n",
       "2        {товар, оптом, сравнить, сочи, ваз, tiuru, цен...  \n",
       "3        {ступица, калин, лада, трансмиссия, замена, пе...  \n",
       "4                                               {классика}  \n",
       "5           {ступица, рука, нива, замена, подшипник, свой}  \n",
       "...                                                    ...  \n",
       "11686                                 {❤★✿, ❤★✿★апрелёнок}  \n",
       "11687                                          {gästebuch}  \n",
       "11688                                 {jizolofej, archive}  \n",
       "11689    {парень, шурыгин, как, говорить, диана, пусть,...  \n",
       "11690    {газ, сми, express, ревизорро, распыление, шоу...  \n",
       "\n",
       "[11690 rows x 5 columns]"
      ]
     },
     "execution_count": 70,
     "metadata": {},
     "output_type": "execute_result"
    }
   ],
   "source": [
    "add_title_words(traindf)\n",
    "traindf"
   ]
  },
  {
   "cell_type": "code",
   "execution_count": 71,
   "id": "3153e33c",
   "metadata": {},
   "outputs": [],
   "source": [
    "X_train, y_train, groups = [], [], []"
   ]
  },
  {
   "cell_type": "code",
   "execution_count": 72,
   "id": "97061d2e",
   "metadata": {},
   "outputs": [],
   "source": [
    "def collect_title_words_for_train(docs):\n",
    "    title_words = docs.title_words\n",
    "    y_train.extend(docs.target.to_list())\n",
    "    groups.extend(docs.group_id.to_list())\n",
    "    for i, words in enumerate(title_words):\n",
    "        distances = []\n",
    "        for j, another_words in enumerate(title_words):\n",
    "            if i == j:\n",
    "                continue\n",
    "            distances.append(len(words.intersection(another_words)))\n",
    "        X_train.append(-np.partition(-np.asarray(distances, dtype='int'), 15)[:15])"
   ]
  },
  {
   "cell_type": "code",
   "execution_count": 73,
   "id": "0538510a",
   "metadata": {},
   "outputs": [],
   "source": [
    "traindf.groupby('group_id').apply(collect_title_words_for_train);\n",
    "X, y, groups = np.asarray(X_train), np.asarray(y_train), np.asarray(groups)"
   ]
  },
  {
   "cell_type": "code",
   "execution_count": 74,
   "id": "a99676ee",
   "metadata": {},
   "outputs": [],
   "source": [
    "scaler = StandardScaler().fit(X, y)\n",
    "X = scaler.transform(X);"
   ]
  },
  {
   "cell_type": "code",
   "execution_count": 75,
   "id": "c231d3db",
   "metadata": {},
   "outputs": [],
   "source": [
    "opt_params = {\n",
    "    'n_jobs': -1\n",
    "}"
   ]
  },
  {
   "cell_type": "code",
   "execution_count": 76,
   "id": "fbd445b2",
   "metadata": {},
   "outputs": [],
   "source": [
    "grid = {\n",
    "    'max_iter': [500, 1000, 2000, 3000, 5000],\n",
    "    'loss': ['hinge', 'log', 'modified_huber', 'squared_hinge', 'perceptron'],\n",
    "    'alpha': np.logspace(4, -4, 10)\n",
    "}\n",
    "\n",
    "for param in grid:\n",
    "    param_range = grid[param]\n",
    "    opt_model_type = FindParams(param, param_range, opt_params)\n",
    "    opt_params.update({param: opt_model_type})"
   ]
  },
  {
   "cell_type": "code",
   "execution_count": 77,
   "id": "6a2cde01",
   "metadata": {},
   "outputs": [
    {
     "data": {
      "text/plain": [
       "{'n_jobs': -1, 'max_iter': 5000, 'loss': 'log', 'alpha': 0.04641588833612782}"
      ]
     },
     "execution_count": 77,
     "metadata": {},
     "output_type": "execute_result"
    }
   ],
   "source": [
    "opt_params"
   ]
  },
  {
   "cell_type": "markdown",
   "id": "27e64d10",
   "metadata": {},
   "source": [
    "### Считываем test и делаем predict"
   ]
  },
  {
   "cell_type": "code",
   "execution_count": 78,
   "id": "6bc4e976",
   "metadata": {},
   "outputs": [],
   "source": [
    "X_test = []"
   ]
  },
  {
   "cell_type": "code",
   "execution_count": 79,
   "id": "7f7f62e3",
   "metadata": {},
   "outputs": [],
   "source": [
    "def collect_title_words_for_test(docs):\n",
    "    title_words = docs.title_words\n",
    "    for i, words in enumerate(title_words):\n",
    "        distances = []\n",
    "        for j, another_words in enumerate(title_words):\n",
    "            if i == j:\n",
    "                continue\n",
    "            distances.append(len(words.intersection(another_words)))\n",
    "        X_test.append(-np.partition(-np.asarray(distances, dtype='int'), 15)[:15])"
   ]
  },
  {
   "cell_type": "code",
   "execution_count": 80,
   "id": "13f96906",
   "metadata": {},
   "outputs": [
    {
     "data": {
      "text/html": [
       "<div>\n",
       "<style scoped>\n",
       "    .dataframe tbody tr th:only-of-type {\n",
       "        vertical-align: middle;\n",
       "    }\n",
       "\n",
       "    .dataframe tbody tr th {\n",
       "        vertical-align: top;\n",
       "    }\n",
       "\n",
       "    .dataframe thead th {\n",
       "        text-align: right;\n",
       "    }\n",
       "</style>\n",
       "<table border=\"1\" class=\"dataframe\">\n",
       "  <thead>\n",
       "    <tr style=\"text-align: right;\">\n",
       "      <th></th>\n",
       "      <th>group_id</th>\n",
       "      <th>doc_id</th>\n",
       "      <th>title_words</th>\n",
       "    </tr>\n",
       "    <tr>\n",
       "      <th>pair_id</th>\n",
       "      <th></th>\n",
       "      <th></th>\n",
       "      <th></th>\n",
       "    </tr>\n",
       "  </thead>\n",
       "  <tbody>\n",
       "    <tr>\n",
       "      <th>11691</th>\n",
       "      <td>130</td>\n",
       "      <td>6710</td>\n",
       "      <td>{youtube, или, как, прописать, друг, себя, кс,...</td>\n",
       "    </tr>\n",
       "    <tr>\n",
       "      <th>11692</th>\n",
       "      <td>130</td>\n",
       "      <td>4030</td>\n",
       "      <td>{доработка, e, gta, скачать, mysql, samp, мода...</td>\n",
       "    </tr>\n",
       "    <tr>\n",
       "      <th>11693</th>\n",
       "      <td>130</td>\n",
       "      <td>5561</td>\n",
       "      <td>{каталог, как, прописать, игровой, портал, cou...</td>\n",
       "    </tr>\n",
       "    <tr>\n",
       "      <th>11694</th>\n",
       "      <td>130</td>\n",
       "      <td>4055</td>\n",
       "      <td>{как, прописать, кс, админк, простой}</td>\n",
       "    </tr>\n",
       "  </tbody>\n",
       "</table>\n",
       "</div>"
      ],
      "text/plain": [
       "         group_id  doc_id                                        title_words\n",
       "pair_id                                                                     \n",
       "11691         130    6710  {youtube, или, как, прописать, друг, себя, кс,...\n",
       "11692         130    4030  {доработка, e, gta, скачать, mysql, samp, мода...\n",
       "11693         130    5561  {каталог, как, прописать, игровой, портал, cou...\n",
       "11694         130    4055              {как, прописать, кс, админк, простой}"
      ]
     },
     "execution_count": 80,
     "metadata": {},
     "output_type": "execute_result"
    }
   ],
   "source": [
    "testdf = pd.read_csv('data/test_groups.csv', index_col='pair_id')\n",
    "add_title_words(testdf)\n",
    "testdf.head(4)"
   ]
  },
  {
   "cell_type": "code",
   "execution_count": 81,
   "id": "3dd5940b",
   "metadata": {},
   "outputs": [],
   "source": [
    "testdf.groupby('group_id').apply(collect_title_words_for_test);\n",
    "X_test = np.asarray(X_test)"
   ]
  },
  {
   "cell_type": "code",
   "execution_count": 82,
   "id": "26d8cf5e",
   "metadata": {},
   "outputs": [],
   "source": [
    "X_test = scaler.transform(X_test)"
   ]
  },
  {
   "cell_type": "code",
   "execution_count": 83,
   "id": "ea293856",
   "metadata": {},
   "outputs": [],
   "source": [
    "clf = SGDClassifier(**opt_params).fit(X, y)\n",
    "testdf['target'] = clf.predict(X_test)"
   ]
  },
  {
   "cell_type": "code",
   "execution_count": 84,
   "id": "539094ed",
   "metadata": {},
   "outputs": [],
   "source": [
    "testdf.drop(columns=['group_id', 'doc_id', 'title_words']).to_csv('solution1.csv')"
   ]
  },
  {
   "cell_type": "markdown",
   "id": "5bf50839",
   "metadata": {},
   "source": [
    "### Итоговый скор 0.63710\n",
    "Ура, побили бейзлайн!"
   ]
  },
  {
   "cell_type": "markdown",
   "id": "3bb1d5bb",
   "metadata": {},
   "source": [
    "# Идея 2"
   ]
  },
  {
   "cell_type": "markdown",
   "id": "04a065e3",
   "metadata": {},
   "source": [
    "Посмотрим на наши файлы"
   ]
  },
  {
   "cell_type": "code",
   "execution_count": 86,
   "id": "d439b928",
   "metadata": {},
   "outputs": [
    {
     "name": "stdout",
     "output_type": "stream",
     "text": [
      "М. Б. Аншина Центр репродукции и генетики «ФертиМед», г. Москва\n"
     ]
    }
   ],
   "source": [
    "from bs4 import BeautifulSoup\n",
    "import codecs\n",
    "with codecs.open('content/1.dat', 'r', 'utf-8') as f:\n",
    "    url = f.readline().strip()\n",
    "    soup = "
   ]
  },
  {
   "cell_type": "markdown",
   "id": "12b1e1c7",
   "metadata": {},
   "source": [
    "## Решение 2"
   ]
  },
  {
   "cell_type": "code",
   "execution_count": null,
   "id": "5f9c6b94",
   "metadata": {},
   "outputs": [],
   "source": []
  }
 ],
 "metadata": {
  "kernelspec": {
   "display_name": "Python 3.7.10 64-bit ('da': conda)",
   "language": "python",
   "name": "python3710jvsc74a57bd0fb1e9936674d641b0e1ac5c75cd75c2e7215014ff333cadbd6ad2f998d1f79a6"
  },
  "language_info": {
   "codemirror_mode": {
    "name": "ipython",
    "version": 3
   },
   "file_extension": ".py",
   "mimetype": "text/x-python",
   "name": "python",
   "nbconvert_exporter": "python",
   "pygments_lexer": "ipython3",
   "version": "3.7.10"
  }
 },
 "nbformat": 4,
 "nbformat_minor": 5
}
